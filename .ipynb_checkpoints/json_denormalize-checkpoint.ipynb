{
 "cells": [
  {
   "cell_type": "code",
   "execution_count": 1,
   "id": "8c18d3c7",
   "metadata": {},
   "outputs": [],
   "source": [
    "# class JSONTable:\n",
    "#     # creates a class with variables dynamically defined by the json input\n",
    "#     def __init__(self, schema):\n",
    "#         self.schema = schema\n",
    "#         self.key_name = schema.keys[0]\n",
    "#         # while next level is a list\n",
    "#         # generate new multi levelcolumn name\n",
    "#         # else append to last column\n",
    "#         self.colnames = \"\"\n",
    "\n",
    "\n",
    "# schema = {\"company\": [{\"kpi_name\": [\"period_name\", \"value\"]}]}\n",
    "\n",
    "# data_class = JSONTable(schema)\n",
    "\n",
    "# data = {\"tgt\": [{\"net_revenue\": [\"Q1_2020\", \"4500\"]}]}\n",
    "\n",
    "# data_class.add_record(data)\n",
    "# data_class.add_records([data, data])\n",
    "\n",
    "# data_class.return_panel_data()  # this returns a dataframe for saving in sql / csv\n",
    "# data_class.json_dump(\n",
    "#     show_schema=True\n",
    "# )  # this dumps the json show schema has schema as first record\n"
   ]
  },
  {
   "cell_type": "code",
   "execution_count": 2,
   "id": "57ac4e7e",
   "metadata": {},
   "outputs": [
    {
     "name": "stderr",
     "output_type": "stream",
     "text": [
      "/var/folders/8c/f0542jvx1njfhwndhvbh4rwr0000gn/T/ipykernel_902/2586438144.py:14: FutureWarning: Using short name for 'orient' is deprecated. Only the options: ('dict', list, 'series', 'split', 'records', 'index') will be used in a future version. Use one of the above to silence this warning.\n",
      "  dct = [{'key': k, **v} for k, v in g.to_dict('i').items()]\n"
     ]
    }
   ],
   "source": [
    "import pandas as pd\n",
    "\n",
    "d = {'key': ['foo', 'foo', 'foo', 'foo', 'bar', 'bar', 'bar', 'bar', 'crow', 'crow', 'crow', 'crow'], \n",
    "     'date': ['2021-01-01', '2021-01-01', '2021-01-02', '2021-01-02', '2021-01-01', '2021-01-01','2021-01-02', '2021-01-02', '2021-01-01', '2021-01-01', '2021-01-02', '2021-01-02'], \n",
    "     'class': [1, 2, 1, 2, 1, 2, 1, 2, 1, 2, 1, 2],\n",
    "     'count': [12, 3, 5, 5, 3, 1, 4, 1, 7, 3, 8, 2],\n",
    "     'percent': [.8, .2, .5, .5, .75, .25, .8, .2, .7, .3, .8, .2]\n",
    "}\n",
    "df = pd.DataFrame(data=d)\n",
    "df.to_csv(\"data.csv\")\n",
    "\n",
    "d   = {'count': ('count', 'sum'), 'predictions': ('percent', list)}\n",
    "g   = df.groupby(['key', 'date']).agg(**d).groupby(level=0).agg(list)\n",
    "dct = [{'key': k, **v} for k, v in g.to_dict('i').items()]"
   ]
  },
  {
   "cell_type": "code",
   "execution_count": 3,
   "id": "fe2e2676",
   "metadata": {},
   "outputs": [
    {
     "data": {
      "text/html": [
       "<div>\n",
       "<style scoped>\n",
       "    .dataframe tbody tr th:only-of-type {\n",
       "        vertical-align: middle;\n",
       "    }\n",
       "\n",
       "    .dataframe tbody tr th {\n",
       "        vertical-align: top;\n",
       "    }\n",
       "\n",
       "    .dataframe thead th {\n",
       "        text-align: right;\n",
       "    }\n",
       "</style>\n",
       "<table border=\"1\" class=\"dataframe\">\n",
       "  <thead>\n",
       "    <tr style=\"text-align: right;\">\n",
       "      <th></th>\n",
       "      <th>key</th>\n",
       "      <th>date</th>\n",
       "      <th>class</th>\n",
       "      <th>count</th>\n",
       "      <th>percent</th>\n",
       "    </tr>\n",
       "  </thead>\n",
       "  <tbody>\n",
       "    <tr>\n",
       "      <th>0</th>\n",
       "      <td>foo</td>\n",
       "      <td>2021-01-01</td>\n",
       "      <td>1</td>\n",
       "      <td>12</td>\n",
       "      <td>0.80</td>\n",
       "    </tr>\n",
       "    <tr>\n",
       "      <th>1</th>\n",
       "      <td>foo</td>\n",
       "      <td>2021-01-01</td>\n",
       "      <td>2</td>\n",
       "      <td>3</td>\n",
       "      <td>0.20</td>\n",
       "    </tr>\n",
       "    <tr>\n",
       "      <th>2</th>\n",
       "      <td>foo</td>\n",
       "      <td>2021-01-02</td>\n",
       "      <td>1</td>\n",
       "      <td>5</td>\n",
       "      <td>0.50</td>\n",
       "    </tr>\n",
       "    <tr>\n",
       "      <th>3</th>\n",
       "      <td>foo</td>\n",
       "      <td>2021-01-02</td>\n",
       "      <td>2</td>\n",
       "      <td>5</td>\n",
       "      <td>0.50</td>\n",
       "    </tr>\n",
       "    <tr>\n",
       "      <th>4</th>\n",
       "      <td>bar</td>\n",
       "      <td>2021-01-01</td>\n",
       "      <td>1</td>\n",
       "      <td>3</td>\n",
       "      <td>0.75</td>\n",
       "    </tr>\n",
       "    <tr>\n",
       "      <th>5</th>\n",
       "      <td>bar</td>\n",
       "      <td>2021-01-01</td>\n",
       "      <td>2</td>\n",
       "      <td>1</td>\n",
       "      <td>0.25</td>\n",
       "    </tr>\n",
       "    <tr>\n",
       "      <th>6</th>\n",
       "      <td>bar</td>\n",
       "      <td>2021-01-02</td>\n",
       "      <td>1</td>\n",
       "      <td>4</td>\n",
       "      <td>0.80</td>\n",
       "    </tr>\n",
       "    <tr>\n",
       "      <th>7</th>\n",
       "      <td>bar</td>\n",
       "      <td>2021-01-02</td>\n",
       "      <td>2</td>\n",
       "      <td>1</td>\n",
       "      <td>0.20</td>\n",
       "    </tr>\n",
       "    <tr>\n",
       "      <th>8</th>\n",
       "      <td>crow</td>\n",
       "      <td>2021-01-01</td>\n",
       "      <td>1</td>\n",
       "      <td>7</td>\n",
       "      <td>0.70</td>\n",
       "    </tr>\n",
       "    <tr>\n",
       "      <th>9</th>\n",
       "      <td>crow</td>\n",
       "      <td>2021-01-01</td>\n",
       "      <td>2</td>\n",
       "      <td>3</td>\n",
       "      <td>0.30</td>\n",
       "    </tr>\n",
       "    <tr>\n",
       "      <th>10</th>\n",
       "      <td>crow</td>\n",
       "      <td>2021-01-02</td>\n",
       "      <td>1</td>\n",
       "      <td>8</td>\n",
       "      <td>0.80</td>\n",
       "    </tr>\n",
       "    <tr>\n",
       "      <th>11</th>\n",
       "      <td>crow</td>\n",
       "      <td>2021-01-02</td>\n",
       "      <td>2</td>\n",
       "      <td>2</td>\n",
       "      <td>0.20</td>\n",
       "    </tr>\n",
       "  </tbody>\n",
       "</table>\n",
       "</div>"
      ],
      "text/plain": [
       "     key        date  class  count  percent\n",
       "0    foo  2021-01-01      1     12     0.80\n",
       "1    foo  2021-01-01      2      3     0.20\n",
       "2    foo  2021-01-02      1      5     0.50\n",
       "3    foo  2021-01-02      2      5     0.50\n",
       "4    bar  2021-01-01      1      3     0.75\n",
       "5    bar  2021-01-01      2      1     0.25\n",
       "6    bar  2021-01-02      1      4     0.80\n",
       "7    bar  2021-01-02      2      1     0.20\n",
       "8   crow  2021-01-01      1      7     0.70\n",
       "9   crow  2021-01-01      2      3     0.30\n",
       "10  crow  2021-01-02      1      8     0.80\n",
       "11  crow  2021-01-02      2      2     0.20"
      ]
     },
     "execution_count": 3,
     "metadata": {},
     "output_type": "execute_result"
    }
   ],
   "source": [
    "df"
   ]
  },
  {
   "cell_type": "code",
   "execution_count": 4,
   "id": "7bd3038d",
   "metadata": {},
   "outputs": [
    {
     "data": {
      "text/plain": [
       "[{'key': 'bar', 'count': [4, 5], 'predictions': [[0.75, 0.25], [0.8, 0.2]]},\n",
       " {'key': 'crow', 'count': [10, 10], 'predictions': [[0.7, 0.3], [0.8, 0.2]]},\n",
       " {'key': 'foo', 'count': [15, 10], 'predictions': [[0.8, 0.2], [0.5, 0.5]]}]"
      ]
     },
     "execution_count": 4,
     "metadata": {},
     "output_type": "execute_result"
    }
   ],
   "source": [
    "dct"
   ]
  },
  {
   "cell_type": "code",
   "execution_count": 5,
   "id": "4756c18e",
   "metadata": {},
   "outputs": [],
   "source": [
    "import uuid\n",
    "from IPython.display import display_javascript, display_html, display\n",
    "import json\n",
    "\n",
    "class RenderJSON(object):\n",
    "    def __init__(self, json_data):\n",
    "        if isinstance(json_data, dict):\n",
    "            self.json_str = json.dumps(json_data)\n",
    "        else:\n",
    "            self.json_str = json_data\n",
    "        self.uuid = str(uuid.uuid4())\n",
    "\n",
    "    def _ipython_display_(self):\n",
    "        display_html('<div id=\"{}\" style=\"height: 600px; width:100%;\"></div>'.format(self.uuid), raw=True)\n",
    "        display_javascript(\"\"\"\n",
    "        require([\"https://rawgit.com/caldwell/renderjson/master/renderjson.js\"], function() {\n",
    "        document.getElementById('%s').appendChild(renderjson(%s))\n",
    "        });\n",
    "        \"\"\" % (self.uuid, self.json_str), raw=True)"
   ]
  },
  {
   "cell_type": "code",
   "execution_count": 6,
   "id": "bffb5d0b",
   "metadata": {},
   "outputs": [
    {
     "data": {
      "text/html": [
       "<div id=\"4eb6d866-f275-428b-9501-393f9ea6138d\" style=\"height: 600px; width:100%;\"></div>"
      ]
     },
     "metadata": {},
     "output_type": "display_data"
    },
    {
     "data": {
      "application/javascript": [
       "\n",
       "        require([\"https://rawgit.com/caldwell/renderjson/master/renderjson.js\"], function() {\n",
       "        document.getElementById('4eb6d866-f275-428b-9501-393f9ea6138d').appendChild(renderjson([{'key': 'bar', 'count': [4, 5], 'predictions': [[0.75, 0.25], [0.8, 0.2]]}, {'key': 'crow', 'count': [10, 10], 'predictions': [[0.7, 0.3], [0.8, 0.2]]}, {'key': 'foo', 'count': [15, 10], 'predictions': [[0.8, 0.2], [0.5, 0.5]]}]))\n",
       "        });\n",
       "        "
      ]
     },
     "metadata": {},
     "output_type": "display_data"
    }
   ],
   "source": [
    "\n",
    "RenderJSON(dct)"
   ]
  },
  {
   "cell_type": "code",
   "execution_count": null,
   "id": "e2c6d2f8",
   "metadata": {},
   "outputs": [],
   "source": []
  }
 ],
 "metadata": {
  "kernelspec": {
   "display_name": "Python 3 (ipykernel)",
   "language": "python",
   "name": "python3"
  },
  "language_info": {
   "codemirror_mode": {
    "name": "ipython",
    "version": 3
   },
   "file_extension": ".py",
   "mimetype": "text/x-python",
   "name": "python",
   "nbconvert_exporter": "python",
   "pygments_lexer": "ipython3",
   "version": "3.10.2"
  }
 },
 "nbformat": 4,
 "nbformat_minor": 5
}
